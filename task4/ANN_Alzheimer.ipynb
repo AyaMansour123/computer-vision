{
 "cells": [
  {
   "cell_type": "code",
   "execution_count": 17,
   "id": "c8c88827-ebdc-4d10-80a5-f7c7dbee074e",
   "metadata": {},
   "outputs": [],
   "source": [
    "import numpy as np\n",
    "import pandas as pd\n",
    "from sklearn import datasets\n",
    "from sklearn.metrics import classification_report, confusion_matrix\n",
    "from tensorflow import keras\n",
    "from tensorflow.keras import layers\n",
    "from tensorflow.keras.preprocessing import image_dataset_from_directory"
   ]
  },
  {
   "cell_type": "code",
   "execution_count": 19,
   "id": "488e6ec9-34de-429d-8cf6-5f73cf65e5a8",
   "metadata": {},
   "outputs": [],
   "source": [
    "train_dir = 'C:/Users/Aziz/Desktop/Alzheimer_s Dataset/Alzheimer_s Dataset/train'  \n",
    "test_dir = 'C:/Users/Aziz/Desktop/Alzheimer_s Dataset/Alzheimer_s Dataset/test'"
   ]
  },
  {
   "cell_type": "code",
   "execution_count": 21,
   "id": "97baa651-6fb5-4f10-b5ef-a256e321c196",
   "metadata": {},
   "outputs": [
    {
     "name": "stdout",
     "output_type": "stream",
     "text": [
      "Found 5121 files belonging to 4 classes.\n"
     ]
    }
   ],
   "source": [
    "# Load the dataset\n",
    "train_dataset = image_dataset_from_directory(\n",
    "    train_dir,\n",
    "    image_size=(150, 150),  # Resize all images to this size\n",
    "    batch_size=32\n",
    ")\n"
   ]
  },
  {
   "cell_type": "code",
   "execution_count": 25,
   "id": "2cbb3d80-6b41-414e-a2b9-ba292c3bc6ea",
   "metadata": {},
   "outputs": [
    {
     "name": "stdout",
     "output_type": "stream",
     "text": [
      "Found 1279 files belonging to 4 classes.\n"
     ]
    }
   ],
   "source": [
    "test_dataset = image_dataset_from_directory(\n",
    "    test_dir,\n",
    "    image_size=(150, 150),  # تغيير حجم الصور إلى 150x150 بكسل\n",
    "    batch_size=32\n",
    ")"
   ]
  },
  {
   "cell_type": "code",
   "execution_count": 27,
   "id": "4b407162-0fef-435a-b1b6-70cbf2c12e7a",
   "metadata": {},
   "outputs": [],
   "source": [
    "# Normalize the images\n",
    "normalization_layer = layers.Rescaling(1./255)\n",
    "train_dataset = train_dataset.map(lambda x, y: (normalization_layer(x), y))\n",
    "test_dataset = test_dataset.map(lambda x, y: (normalization_layer(x), y))\n"
   ]
  },
  {
   "cell_type": "code",
   "execution_count": 29,
   "id": "3ca6d803-7c18-472e-82d7-5b7b97b6b9f4",
   "metadata": {},
   "outputs": [
    {
     "name": "stderr",
     "output_type": "stream",
     "text": [
      "C:\\Users\\Aziz\\Downloads\\Programs\\Lib\\site-packages\\keras\\src\\layers\\convolutional\\base_conv.py:107: UserWarning: Do not pass an `input_shape`/`input_dim` argument to a layer. When using Sequential models, prefer using an `Input(shape)` object as the first layer in the model instead.\n",
      "  super().__init__(activity_regularizer=activity_regularizer, **kwargs)\n"
     ]
    }
   ],
   "source": [
    "# Create the ANN model\n",
    "model = keras.Sequential([\n",
    "    layers.Conv2D(32, (3, 3), activation='relu', input_shape=(150, 150, 3)),\n",
    "    layers.MaxPooling2D((2, 2)),\n",
    "    layers.Conv2D(64, (3, 3), activation='relu'),\n",
    "    layers.MaxPooling2D((2, 2)),\n",
    "    layers.Flatten(),\n",
    "    layers.Dense(128, activation='relu'),\n",
    "    layers.Dense(1, activation='sigmoid')  # Use 'softmax' for multi-class problems\n",
    "])\n",
    "\n"
   ]
  },
  {
   "cell_type": "code",
   "execution_count": 31,
   "id": "33cde232-2f3f-4e19-a5ab-bc008c46f350",
   "metadata": {},
   "outputs": [],
   "source": [
    "# Compile the model\n",
    "model.compile(optimizer='adam', loss='binary_crossentropy', metrics=['accuracy'])\n",
    "\n"
   ]
  },
  {
   "cell_type": "code",
   "execution_count": 33,
   "id": "23926835-32f4-4d42-82c2-8adeed03827e",
   "metadata": {},
   "outputs": [
    {
     "name": "stdout",
     "output_type": "stream",
     "text": [
      "Epoch 1/20\n",
      "\u001b[1m161/161\u001b[0m \u001b[32m━━━━━━━━━━━━━━━━━━━━\u001b[0m\u001b[37m\u001b[0m \u001b[1m42s\u001b[0m 246ms/step - accuracy: 0.0106 - loss: -76232.8672 - val_accuracy: 0.0094 - val_loss: -25742720.0000\n",
      "Epoch 2/20\n",
      "\u001b[1m161/161\u001b[0m \u001b[32m━━━━━━━━━━━━━━━━━━━━\u001b[0m\u001b[37m\u001b[0m \u001b[1m39s\u001b[0m 244ms/step - accuracy: 0.0097 - loss: -9095631.0000 - val_accuracy: 0.0094 - val_loss: -632681088.0000\n",
      "Epoch 3/20\n",
      "\u001b[1m161/161\u001b[0m \u001b[32m━━━━━━━━━━━━━━━━━━━━\u001b[0m\u001b[37m\u001b[0m \u001b[1m39s\u001b[0m 239ms/step - accuracy: 0.0084 - loss: -111968608.0000 - val_accuracy: 0.0094 - val_loss: -3760482816.0000\n",
      "Epoch 4/20\n",
      "\u001b[1m161/161\u001b[0m \u001b[32m━━━━━━━━━━━━━━━━━━━━\u001b[0m\u001b[37m\u001b[0m \u001b[1m38s\u001b[0m 232ms/step - accuracy: 0.0082 - loss: -531777600.0000 - val_accuracy: 0.0094 - val_loss: -12520996864.0000\n",
      "Epoch 5/20\n",
      "\u001b[1m161/161\u001b[0m \u001b[32m━━━━━━━━━━━━━━━━━━━━\u001b[0m\u001b[37m\u001b[0m \u001b[1m37s\u001b[0m 231ms/step - accuracy: 0.0080 - loss: -1598350976.0000 - val_accuracy: 0.0094 - val_loss: -30813761536.0000\n",
      "Epoch 6/20\n",
      "\u001b[1m161/161\u001b[0m \u001b[32m━━━━━━━━━━━━━━━━━━━━\u001b[0m\u001b[37m\u001b[0m \u001b[1m37s\u001b[0m 232ms/step - accuracy: 0.0083 - loss: -3716993280.0000 - val_accuracy: 0.0094 - val_loss: -63018733568.0000\n",
      "Epoch 7/20\n",
      "\u001b[1m161/161\u001b[0m \u001b[32m━━━━━━━━━━━━━━━━━━━━\u001b[0m\u001b[37m\u001b[0m \u001b[1m38s\u001b[0m 232ms/step - accuracy: 0.0085 - loss: -7262699008.0000 - val_accuracy: 0.0094 - val_loss: -113794408448.0000\n",
      "Epoch 8/20\n",
      "\u001b[1m161/161\u001b[0m \u001b[32m━━━━━━━━━━━━━━━━━━━━\u001b[0m\u001b[37m\u001b[0m \u001b[1m38s\u001b[0m 234ms/step - accuracy: 0.0083 - loss: -12788183040.0000 - val_accuracy: 0.0094 - val_loss: -187839315968.0000\n",
      "Epoch 9/20\n",
      "\u001b[1m161/161\u001b[0m \u001b[32m━━━━━━━━━━━━━━━━━━━━\u001b[0m\u001b[37m\u001b[0m \u001b[1m37s\u001b[0m 232ms/step - accuracy: 0.0080 - loss: -20639432704.0000 - val_accuracy: 0.0094 - val_loss: -290395783168.0000\n",
      "Epoch 10/20\n",
      "\u001b[1m161/161\u001b[0m \u001b[32m━━━━━━━━━━━━━━━━━━━━\u001b[0m\u001b[37m\u001b[0m \u001b[1m38s\u001b[0m 233ms/step - accuracy: 0.0086 - loss: -31546023936.0000 - val_accuracy: 0.0094 - val_loss: -426265182208.0000\n",
      "Epoch 11/20\n",
      "\u001b[1m161/161\u001b[0m \u001b[32m━━━━━━━━━━━━━━━━━━━━\u001b[0m\u001b[37m\u001b[0m \u001b[1m38s\u001b[0m 232ms/step - accuracy: 0.0086 - loss: -45574938624.0000 - val_accuracy: 0.0094 - val_loss: -598841098240.0000\n",
      "Epoch 12/20\n",
      "\u001b[1m161/161\u001b[0m \u001b[32m━━━━━━━━━━━━━━━━━━━━\u001b[0m\u001b[37m\u001b[0m \u001b[1m38s\u001b[0m 233ms/step - accuracy: 0.0093 - loss: -63355850752.0000 - val_accuracy: 0.0094 - val_loss: -811612962816.0000\n",
      "Epoch 13/20\n",
      "\u001b[1m161/161\u001b[0m \u001b[32m━━━━━━━━━━━━━━━━━━━━\u001b[0m\u001b[37m\u001b[0m \u001b[1m38s\u001b[0m 232ms/step - accuracy: 0.0079 - loss: -84722638848.0000 - val_accuracy: 0.0094 - val_loss: -1072385294336.0000\n",
      "Epoch 14/20\n",
      "\u001b[1m161/161\u001b[0m \u001b[32m━━━━━━━━━━━━━━━━━━━━\u001b[0m\u001b[37m\u001b[0m \u001b[1m38s\u001b[0m 233ms/step - accuracy: 0.0080 - loss: -112257630208.0000 - val_accuracy: 0.0094 - val_loss: -1387053580288.0000\n",
      "Epoch 15/20\n",
      "\u001b[1m161/161\u001b[0m \u001b[32m━━━━━━━━━━━━━━━━━━━━\u001b[0m\u001b[37m\u001b[0m \u001b[1m38s\u001b[0m 235ms/step - accuracy: 0.0087 - loss: -144498081792.0000 - val_accuracy: 0.0094 - val_loss: -1756630351872.0000\n",
      "Epoch 16/20\n",
      "\u001b[1m161/161\u001b[0m \u001b[32m━━━━━━━━━━━━━━━━━━━━\u001b[0m\u001b[37m\u001b[0m \u001b[1m39s\u001b[0m 243ms/step - accuracy: 0.0081 - loss: -182883188736.0000 - val_accuracy: 0.0094 - val_loss: -2187977555968.0000\n",
      "Epoch 17/20\n",
      "\u001b[1m161/161\u001b[0m \u001b[32m━━━━━━━━━━━━━━━━━━━━\u001b[0m\u001b[37m\u001b[0m \u001b[1m37s\u001b[0m 228ms/step - accuracy: 0.0088 - loss: -227569991680.0000 - val_accuracy: 0.0094 - val_loss: -2683187494912.0000\n",
      "Epoch 18/20\n",
      "\u001b[1m161/161\u001b[0m \u001b[32m━━━━━━━━━━━━━━━━━━━━\u001b[0m\u001b[37m\u001b[0m \u001b[1m37s\u001b[0m 227ms/step - accuracy: 0.0099 - loss: -275319586816.0000 - val_accuracy: 0.0094 - val_loss: -3249374756864.0000\n",
      "Epoch 19/20\n",
      "\u001b[1m161/161\u001b[0m \u001b[32m━━━━━━━━━━━━━━━━━━━━\u001b[0m\u001b[37m\u001b[0m \u001b[1m37s\u001b[0m 229ms/step - accuracy: 0.0087 - loss: -334104952832.0000 - val_accuracy: 0.0094 - val_loss: -3878004195328.0000\n",
      "Epoch 20/20\n",
      "\u001b[1m161/161\u001b[0m \u001b[32m━━━━━━━━━━━━━━━━━━━━\u001b[0m\u001b[37m\u001b[0m \u001b[1m39s\u001b[0m 239ms/step - accuracy: 0.0079 - loss: -396527730688.0000 - val_accuracy: 0.0094 - val_loss: -4592305700864.0000\n"
     ]
    },
    {
     "data": {
      "text/plain": [
       "<keras.src.callbacks.history.History at 0x170ce8059a0>"
      ]
     },
     "execution_count": 33,
     "metadata": {},
     "output_type": "execute_result"
    }
   ],
   "source": [
    "# Train the model\n",
    "model.fit(train_dataset, epochs=20, validation_data=test_dataset)\n"
   ]
  },
  {
   "cell_type": "code",
   "execution_count": 35,
   "id": "3f63ab86-e54d-4032-98ed-69de01b8bc5e",
   "metadata": {},
   "outputs": [
    {
     "name": "stdout",
     "output_type": "stream",
     "text": [
      "\u001b[1m40/40\u001b[0m \u001b[32m━━━━━━━━━━━━━━━━━━━━\u001b[0m\u001b[37m\u001b[0m \u001b[1m2s\u001b[0m 55ms/step - accuracy: 0.0067 - loss: -4552462434304.0000\n",
      "Accuracy: 0.0094\n"
     ]
    }
   ],
   "source": [
    "# Evaluate the model\n",
    "loss, accuracy = model.evaluate(test_dataset)\n",
    "print(f'Accuracy: {accuracy:.4f}')\n",
    "\n"
   ]
  },
  {
   "cell_type": "code",
   "execution_count": 37,
   "id": "7a54629b-a634-4deb-9b26-176e3b35702e",
   "metadata": {},
   "outputs": [
    {
     "name": "stdout",
     "output_type": "stream",
     "text": [
      "\u001b[1m40/40\u001b[0m \u001b[32m━━━━━━━━━━━━━━━━━━━━\u001b[0m\u001b[37m\u001b[0m \u001b[1m2s\u001b[0m 51ms/step\n"
     ]
    }
   ],
   "source": [
    "# Predictions\n",
    "y_true = np.concatenate([y for x, y in test_dataset], axis=0)\n",
    "y_pred = (model.predict(test_dataset) > 0.5).astype(\"int32\").flatten()\n",
    "\n"
   ]
  },
  {
   "cell_type": "code",
   "execution_count": 41,
   "id": "995a23c5-87de-4293-b716-adba294cf2a3",
   "metadata": {},
   "outputs": [
    {
     "name": "stdout",
     "output_type": "stream",
     "text": [
      "[[  0 179   0   0]\n",
      " [  0  12   0   0]\n",
      " [  0 640   0   0]\n",
      " [  0 448   0   0]]\n",
      "              precision    recall  f1-score   support\n",
      "\n",
      "           0       0.00      0.00      0.00       179\n",
      "           1       0.01      1.00      0.02        12\n",
      "           2       0.00      0.00      0.00       640\n",
      "           3       0.00      0.00      0.00       448\n",
      "\n",
      "    accuracy                           0.01      1279\n",
      "   macro avg       0.00      0.25      0.00      1279\n",
      "weighted avg       0.00      0.01      0.00      1279\n",
      "\n"
     ]
    },
    {
     "name": "stderr",
     "output_type": "stream",
     "text": [
      "C:\\Users\\Aziz\\Downloads\\Programs\\Lib\\site-packages\\sklearn\\metrics\\_classification.py:1531: UndefinedMetricWarning: Precision is ill-defined and being set to 0.0 in labels with no predicted samples. Use `zero_division` parameter to control this behavior.\n",
      "  _warn_prf(average, modifier, f\"{metric.capitalize()} is\", len(result))\n",
      "C:\\Users\\Aziz\\Downloads\\Programs\\Lib\\site-packages\\sklearn\\metrics\\_classification.py:1531: UndefinedMetricWarning: Precision is ill-defined and being set to 0.0 in labels with no predicted samples. Use `zero_division` parameter to control this behavior.\n",
      "  _warn_prf(average, modifier, f\"{metric.capitalize()} is\", len(result))\n",
      "C:\\Users\\Aziz\\Downloads\\Programs\\Lib\\site-packages\\sklearn\\metrics\\_classification.py:1531: UndefinedMetricWarning: Precision is ill-defined and being set to 0.0 in labels with no predicted samples. Use `zero_division` parameter to control this behavior.\n",
      "  _warn_prf(average, modifier, f\"{metric.capitalize()} is\", len(result))\n"
     ]
    }
   ],
   "source": [
    "# Evaluation metrics\n",
    "print(confusion_matrix(y_true, y_pred))\n",
    "print(classification_report(y_true, y_pred))\n"
   ]
  },
  {
   "cell_type": "code",
   "execution_count": null,
   "id": "fabd845d-7152-40df-8222-31634cc1aa3f",
   "metadata": {},
   "outputs": [],
   "source": []
  }
 ],
 "metadata": {
  "kernelspec": {
   "display_name": "Python 3 (ipykernel)",
   "language": "python",
   "name": "python3"
  },
  "language_info": {
   "codemirror_mode": {
    "name": "ipython",
    "version": 3
   },
   "file_extension": ".py",
   "mimetype": "text/x-python",
   "name": "python",
   "nbconvert_exporter": "python",
   "pygments_lexer": "ipython3",
   "version": "3.12.7"
  }
 },
 "nbformat": 4,
 "nbformat_minor": 5
}
